{
 "cells": [
  {
   "cell_type": "markdown",
   "metadata": {},
   "source": [
    "## Example solutions to image recognition exercises"
   ]
  },
  {
   "cell_type": "markdown",
   "metadata": {},
   "source": [
    "3.1. Tuning a random forest classifier"
   ]
  },
  {
   "cell_type": "code",
   "execution_count": null,
   "metadata": {},
   "outputs": [],
   "source": [
    "A = []\n",
    "max_feature_params = ['auto', 'sqrt', 'log2', .01, .5, .99]\n",
    "for mf in max_feature_params:\n",
    "    rf = RandomForestClassifier(max_features = mf)\n",
    "    rf.fit(images_pca, ytrain)\n",
    "    yhat = rf.predict(pca.transform(Xtest)).ravel()\n",
    "    A.append(metrics.accuracy_score(ytest, yhat))"
   ]
  },
  {
   "cell_type": "code",
   "execution_count": null,
   "metadata": {},
   "outputs": [],
   "source": [
    "plt.plot(np.arange(len(max_feature_params)), A)\n",
    "plt.xlabel('Feature'); plt.ylabel('Accuracy')\n",
    "plt.xticks(np.arange(len(max_feature_params)),max_feature_params)"
   ]
  },
  {
   "cell_type": "markdown",
   "metadata": {},
   "source": [
    "3.2 Classifying plankton"
   ]
  },
  {
   "cell_type": "code",
   "execution_count": null,
   "metadata": {},
   "outputs": [],
   "source": [
    "d = {ni: indi for indi, ni in enumerate(set(train_labels))}\n",
    "ytrain = sorted([d[ni] for ni in train_labels])\n",
    "print(ytrain[0])\n",
    "print(ytrain[100])\n",
    "print(ytrain[200])\n",
    "\n",
    "d = {ni: indi for indi, ni in enumerate(set(test_labels))}\n",
    "ytest = sorted([d[ni] for ni in test_labels])\n",
    "print(ytest[0])\n",
    "print(ytest[10])\n",
    "print(ytest[20])"
   ]
  },
  {
   "cell_type": "code",
   "execution_count": null,
   "metadata": {},
   "outputs": [],
   "source": [
    "Xtrain = []\n",
    "for file in train_names:\n",
    "    with fs.open(file, 'rb') as f:\n",
    "        Xtrain.append(imresize(imread(f), (64, 64)).flatten())  \n",
    "\n",
    "Xtest = []\n",
    "for file in test_names:\n",
    "    with fs.open(file, 'rb') as f:\n",
    "        Xtest.append(imresize(imread(f), (64, 64)).flatten())   "
   ]
  },
  {
   "cell_type": "code",
   "execution_count": null,
   "metadata": {},
   "outputs": [],
   "source": [
    "Xtrain = np.asarray(Xtrain)\n",
    "Xtest = np.asarray(Xtest)\n",
    "\n",
    "print(np.shape(Xtrain))\n",
    "print(np.shape(Xtest))"
   ]
  },
  {
   "cell_type": "code",
   "execution_count": null,
   "metadata": {},
   "outputs": [],
   "source": [
    "pcamodel = PCA(svd_solver='randomized', n_components=10, whiten=True, random_state=42)\n",
    "svc = SVC(kernel='rbf', class_weight='balanced')\n",
    "model = make_pipeline(pcamodel, svc)\n",
    "param_grid = {'svc__C': [1, 5, 10, 50],\n",
    "              'svc__gamma': [0.0001, 0.0005, 0.001, 0.005, 0.01]}\n",
    "grid = GridSearchCV(model, param_grid)"
   ]
  },
  {
   "cell_type": "code",
   "execution_count": null,
   "metadata": {},
   "outputs": [],
   "source": [
    "grid.fit(Xtrain, ytrain)"
   ]
  },
  {
   "cell_type": "code",
   "execution_count": null,
   "metadata": {},
   "outputs": [],
   "source": [
    "model = grid.best_estimator_\n",
    "yfit = model.predict(Xtest)     \n",
    "uniq_names = np.unique([f.split('/')[-2] for f in test_names])\n",
    "print(metrics.classification_report(ytest, yfit, target_names=uniq_names))"
   ]
  },
  {
   "cell_type": "code",
   "execution_count": null,
   "metadata": {},
   "outputs": [],
   "source": []
  }
 ],
 "metadata": {
  "kernelspec": {
   "display_name": "Python 3",
   "language": "python",
   "name": "python3"
  },
  "language_info": {
   "codemirror_mode": {
    "name": "ipython",
    "version": 3
   },
   "file_extension": ".py",
   "mimetype": "text/x-python",
   "name": "python",
   "nbconvert_exporter": "python",
   "pygments_lexer": "ipython3",
   "version": "3.5.5"
  }
 },
 "nbformat": 4,
 "nbformat_minor": 2
}

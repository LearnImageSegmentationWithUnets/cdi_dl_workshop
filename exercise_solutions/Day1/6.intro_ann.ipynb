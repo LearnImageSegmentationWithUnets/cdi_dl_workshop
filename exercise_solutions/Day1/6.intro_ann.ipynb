{
 "cells": [
  {
   "cell_type": "markdown",
   "metadata": {},
   "source": [
    "## Example solutions to Intro_ANN exercises"
   ]
  },
  {
   "cell_type": "markdown",
   "metadata": {},
   "source": [
    "    1. Compute the F1 (or other accuracy) scores for the TF ANN"
   ]
  },
  {
   "cell_type": "code",
   "execution_count": null,
   "metadata": {},
   "outputs": [],
   "source": [
    "from sklearn import metrics\n",
    "print(metrics.classification_report(y_pred, y_test))"
   ]
  },
  {
   "cell_type": "markdown",
   "metadata": {},
   "source": [
    "    2. Explore whether the TF ANN gives overall better accuracy if PCA feature extraction is used instead of raw images"
   ]
  },
  {
   "cell_type": "code",
   "execution_count": null,
   "metadata": {},
   "outputs": [],
   "source": [
    "from sklearn.decomposition import PCA\n",
    "\n",
    "N = 12\n",
    "alpha = 0.01\n",
    "num_steps = 15000 \n",
    "batch_size = 32 \n",
    "display_step = 1000\n",
    "\n",
    "A = []\n",
    "\n",
    "for num_input in np.arange(1,200,10):\n",
    "    print(num_input)\n",
    "    pca  =  PCA(n_components =num_input)\n",
    "    ## fit to data\n",
    "    pca.fit(X_train)\n",
    "    ## apply the transformation\n",
    "    images_pca = pca.transform(X_train)\n",
    "\n",
    "    images_test_pca = pca.transform(X_test)\n",
    "    \n",
    "    # tf Graph input\n",
    "    X = tf.placeholder(\"float\", [None, num_input])\n",
    "    Y = tf.placeholder(\"float\", [None, N])    \n",
    "   \n",
    "    # Store layers weight & bias# Store \n",
    "    weights = {\n",
    "    'h1': tf.Variable(tf.random_normal([num_input, n_hidden_1])),\n",
    "    'h2': tf.Variable(tf.random_normal([n_hidden_1, n_hidden_2])),\n",
    "    'out': tf.Variable(tf.random_normal([n_hidden_2, N]))\n",
    "    }\n",
    "    biases = {\n",
    "    'b1': tf.Variable(tf.random_normal([n_hidden_1])),\n",
    "    'b2': tf.Variable(tf.random_normal([n_hidden_2])),\n",
    "    'out': tf.Variable(tf.random_normal([N]))\n",
    "    }\n",
    "\n",
    "    # Construct model\n",
    "    logits = neural_net(X)\n",
    "\n",
    "    # Define loss and optimizer\n",
    "    loss_op = tf.reduce_mean(tf.nn.softmax_cross_entropy_with_logits(\n",
    "        logits=logits, labels=Y))\n",
    "    optimizer = tf.train.AdamOptimizer(learning_rate=alpha)\n",
    "    train_op = optimizer.minimize(loss_op)\n",
    "\n",
    "    # Evaluate model (with test logits, for dropout to be disabled)\n",
    "    correct_pred = tf.equal(tf.argmax(logits, 1), tf.argmax(Y, 1))\n",
    "    accuracy = tf.reduce_mean(tf.cast(correct_pred, tf.float32))\n",
    "\n",
    "    # Initialize the variables (i.e. assign their default value)\n",
    "    init = tf.global_variables_initializer()    \n",
    "\n",
    "    # Start training\n",
    "    with tf.Session() as sess:\n",
    "\n",
    "        # Run the initializer\n",
    "        sess.run(init)\n",
    "\n",
    "        summary_writer = tf.summary.FileWriter(logs_path, graph=tf.get_default_graph())\n",
    "    \n",
    "        for step in range(1, num_steps+1):\n",
    "            ind = r.choice(np.arange(np.shape(images_pca)[0]),batch_size)\n",
    "            batch_x = images_pca[ind]\n",
    "            batch_y = y_v_train[ind]\n",
    "            # Run optimization op (backprop)\n",
    "            sess.run(train_op, feed_dict={X: batch_x, Y: batch_y})\n",
    "            if step % display_step == 0 or step == 1:\n",
    "                # Calculate batch loss and accuracy\n",
    "                loss, acc = sess.run([loss_op, accuracy], feed_dict={X: batch_x,\n",
    "                                                                 Y: batch_y})\n",
    "\n",
    "        print(\"Optimization Finished!\")\n",
    "\n",
    "        # Calculate accuracy for test images\n",
    "        A.append(sess.run(accuracy, feed_dict={X: images_test_pca, Y: y_v_test}))"
   ]
  },
  {
   "cell_type": "code",
   "execution_count": null,
   "metadata": {},
   "outputs": [],
   "source": [
    "plt.plot(np.arange(1,200,10), A, 'k-o')\n",
    "plt.axhline(y=.36, color='r')\n",
    "plt.xlabel('Number of principal components')\n",
    "plt.ylabel('Average accuracy')"
   ]
  }
 ],
 "metadata": {
  "kernelspec": {
   "display_name": "Python 3",
   "language": "python",
   "name": "python3"
  },
  "language_info": {
   "codemirror_mode": {
    "name": "ipython",
    "version": 3
   },
   "file_extension": ".py",
   "mimetype": "text/x-python",
   "name": "python",
   "nbconvert_exporter": "python",
   "pygments_lexer": "ipython3",
   "version": "3.5.5"
  }
 },
 "nbformat": 4,
 "nbformat_minor": 2
}

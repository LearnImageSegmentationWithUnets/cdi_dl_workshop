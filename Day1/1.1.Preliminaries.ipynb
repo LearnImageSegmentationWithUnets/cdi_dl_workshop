{
 "cells": [
  {
   "cell_type": "markdown",
   "metadata": {},
   "source": [
    "# MAPPING LAND-USE, HAZARD VULNERABILITY AND HABITAT SUITABILITY USING DEEP NEURAL NETWORKS"
   ]
  },
  {
   "cell_type": "markdown",
   "metadata": {},
   "source": [
    "> Written by Dr Daniel Buscombe, Northern Arizona University\n",
    "\n",
    "> Part of a series of notebooks for image recognition and classification using deep convolutional neural networks"
   ]
  },
  {
   "cell_type": "markdown",
   "metadata": {},
   "source": [
    "# Preliminaries"
   ]
  },
  {
   "cell_type": "markdown",
   "metadata": {},
   "source": [
    "## Purpose of this Workshop"
   ]
  },
  {
   "cell_type": "markdown",
   "metadata": {},
   "source": [
    "1. Provide exposure to deep learning tools for (\"natural\") image classification (discrete classes)\n",
    "2. Provide you \"research grade\" tools for rapid prototyping and basic exploration of your own image classification problems\n",
    "3. Develop a user community around a set of open-source tools (join/help me!!!)"
   ]
  },
  {
   "cell_type": "markdown",
   "metadata": {},
   "source": [
    "## This workshop is not designed to ..."
   ]
  },
  {
   "cell_type": "markdown",
   "metadata": {},
   "source": [
    "1. ... introduce you to a fully formed set of tools that work out of the box. This is work in development and we all benefit from working on these tools/algorithms together. Your own imagery and needs may necessitate that you tweak/improve/add code.\n",
    "2. ... teach you the fundamentals of any particular machine learning algorithm (instead, I will demonstrate a few of them, and go into enough details about neural networks so you have a better grip on how they work)\n",
    "2. ... demonstrate advanced tensorflow workflows\n",
    "3. ... cover regression problems using imagery (e.g. estimate the atmospheric dust from a hazy image) "
   ]
  },
  {
   "cell_type": "markdown",
   "metadata": {},
   "source": [
    "# Computing"
   ]
  },
  {
   "cell_type": "markdown",
   "metadata": {},
   "source": [
    "### Get the code\n",
    "\n",
    "Jupyter notebooks: [github repo here](https://github.com/dbuscombe-usgs/cdi_dl_workshop)\n",
    "\n",
    "Python package: [github repo here](https://github.com/dbuscombe-usgs/dl_tools.git)"
   ]
  },
  {
   "cell_type": "markdown",
   "metadata": {},
   "source": [
    "### 1. Setting up a conda environment on your PC"
   ]
  },
  {
   "cell_type": "markdown",
   "metadata": {},
   "source": [
    "1. Open an anaconda prompt\n",
    "2. Clone the repository: \n",
    "    * ```git clone https://github.com/dbuscombe-usgs/dl_tools.git```\n",
    "3. Change to the ```dl_tools``` directory: \n",
    "    * ```cd dl_tools```\n",
    "4. Create the conda environment: \n",
    "    * ```conda env create -f tf_env.yml```   \n",
    "5. Activate that conda environment: \n",
    "    * ```conda activate dl_tools```"
   ]
  },
  {
   "cell_type": "markdown",
   "metadata": {},
   "source": [
    "### 2. Running Jupyter notebooks on the http://pangeo.esipfed.org cloud computing environment"
   ]
  },
  {
   "cell_type": "markdown",
   "metadata": {},
   "source": [
    "1. Sign in with your github credentials\n",
    "\n",
    "2. The traditional jupyter interface comes up by default. If you wish to switch to the ```Jupyterlab``` interface by using the following URL form:\n",
    "\n",
    "http://pangeo.esipfed.org/user/yourusername/lab?\n",
    "\n",
    "3. Go to https://github.com/dbuscombe-usgs/cdi_dl_workshop and fork the directory into your own github account\n",
    "\n",
    "4. Open a terminal and clone the github repo:\n",
    "\n",
    "    * ```git clone https://github.com/YOURUSERNAME/cdi_dl_workshop.git```\n"
   ]
  },
  {
   "cell_type": "markdown",
   "metadata": {},
   "source": [
    "The reason why you are cloning your own forked version is so you can push your changes (your notes, your modifications) back to your repository\n",
    "\n",
    "* cd to the ```cdi_dl_workshop``` directory and make a new file:\n",
    "\n",
    "    * ```cd cdi_dl_workshop```\n",
    "\n",
    "    * ```echo \"Hi!\" > mynewfile.txt```\n",
    "\n",
    "* Now you can use ```git``` commands to add, commit and push your changes back to your version of the repository\n",
    "\n",
    "    * ```git add .```\n",
    "\n",
    "    * ```git commit -m \"My first commit\"```\n",
    "\n",
    "    * ```git push origin master```"
   ]
  },
  {
   "cell_type": "markdown",
   "metadata": {},
   "source": [
    "### 3. Running Jupyter notebooks on your PC"
   ]
  },
  {
   "cell_type": "markdown",
   "metadata": {},
   "source": [
    "1. Open an anaconda prompt\n",
    "2. ```conda activate dl_tools```\n",
    "3. ```git clone https://github.com/YOURUSENAME/cdi_dl_workshop.git```\n",
    "4. ```cd cdi_dl_workshop```\n",
    "5. ```jupyter notebook```  \n",
    "6. Go to a web browser and launch your notebooks"
   ]
  },
  {
   "cell_type": "markdown",
   "metadata": {},
   "source": [
    "### 4. Running python scripts on your PC"
   ]
  },
  {
   "cell_type": "markdown",
   "metadata": {},
   "source": [
    "1. Open an anaconda prompt\n",
    "2. ```conda activate dl_tools```\n",
    "3. ```cd dl_tools``` \n",
    "4. run scripts following the lessons (in Days 2 and 3) or the README on the [project website](https://github.com/dbuscombe-usgs/dl_tools)\n",
    "\n",
    "Note that dl-tools is designed to be run on your computer using files on your computer. It is not, therefore, designed to interact with google drive or S3 storage systems\n",
    "\n",
    "The ```README``` file contains a full list of instructions for executing the scripts with the provided dataset, in ```demo_data```"
   ]
  },
  {
   "cell_type": "markdown",
   "metadata": {},
   "source": [
    "## Python"
   ]
  },
  {
   "cell_type": "markdown",
   "metadata": {},
   "source": [
    "There are some useful python cheat sheets [here](https://ehmatthes.github.io/pcc/cheatsheets/README.html)"
   ]
  },
  {
   "cell_type": "markdown",
   "metadata": {},
   "source": [
    "[These](http://www.scipy-lectures.org/) are some good intro tutorials"
   ]
  },
  {
   "cell_type": "markdown",
   "metadata": {},
   "source": [
    "## Conda"
   ]
  },
  {
   "cell_type": "markdown",
   "metadata": {},
   "source": [
    "Activate: ```conda activate dl_tools```"
   ]
  },
  {
   "cell_type": "markdown",
   "metadata": {},
   "source": [
    "Deactivate: ```conda deactivate``` "
   ]
  },
  {
   "cell_type": "markdown",
   "metadata": {},
   "source": [
    "Remove: ```conda env remove --name dl_tools```"
   ]
  },
  {
   "cell_type": "markdown",
   "metadata": {},
   "source": [
    "More conda commands [here](https://conda.io/docs/user-guide/tasks/manage-environments.html)"
   ]
  },
  {
   "cell_type": "markdown",
   "metadata": {},
   "source": [
    "# Other stuff"
   ]
  },
  {
   "cell_type": "markdown",
   "metadata": {},
   "source": [
    "## Google Drive"
   ]
  },
  {
   "cell_type": "markdown",
   "metadata": {},
   "source": [
    "All the curated data sets may be found at the following link "
   ]
  },
  {
   "cell_type": "markdown",
   "metadata": {},
   "source": [
    "[Here](https://drive.google.com/open?id=1IhStVBhWMKLZUWIprti6zZyOg32-W4Of)"
   ]
  },
  {
   "cell_type": "markdown",
   "metadata": {},
   "source": [
    "## Machine Learning"
   ]
  },
  {
   "cell_type": "markdown",
   "metadata": {},
   "source": [
    "Some great 'cheat sheets' from the Stanford CS229 course\n",
    "\n",
    "1. [Deep Learning](https://github.com/afshinea/stanford-cs-229-machine-learning/blob/master/cheatsheet-deep-learning.pdf)\n",
    "2. [Supervised Machine Learning](https://github.com/afshinea/stanford-cs-229-machine-learning/blob/master/cheatsheet-supervised-learning.pdf)\n",
    "3. [Machine Learning Tips and Tricks](https://github.com/afshinea/stanford-cs-229-machine-learning/blob/master/cheatsheet-machine-learning-tips-and-tricks.pdf)\n",
    "4. [Probability & Statistics Refresher](https://github.com/afshinea/stanford-cs-229-machine-learning/blob/master/refresher-probabilities-statistics.pdf)"
   ]
  },
  {
   "cell_type": "code",
   "execution_count": null,
   "metadata": {},
   "outputs": [],
   "source": []
  }
 ],
 "metadata": {
  "kernelspec": {
   "display_name": "Python 3",
   "language": "python",
   "name": "python3"
  },
  "language_info": {
   "codemirror_mode": {
    "name": "ipython",
    "version": 3
   },
   "file_extension": ".py",
   "mimetype": "text/x-python",
   "name": "python",
   "nbconvert_exporter": "python",
   "pygments_lexer": "ipython3",
   "version": "3.5.5"
  }
 },
 "nbformat": 4,
 "nbformat_minor": 2
}

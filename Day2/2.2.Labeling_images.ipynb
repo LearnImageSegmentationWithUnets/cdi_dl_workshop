{
 "cells": [
  {
   "cell_type": "markdown",
   "metadata": {},
   "source": [
    "# Creating label images\n",
    "\n",
    "## Web-based image labeling tool\n",
    "\n",
    "Creating Pixel-Scale Label Images (a.k.a \"Ground truth\")\n",
    "\n",
    "* All/any ML or DL image classification requires you to have a set of labeled images for training, AND a set of labeled images for testing\n",
    "* Often, creating such ground truth data can be time-consuming"
   ]
  },
  {
   "cell_type": "markdown",
   "metadata": {},
   "source": [
    "> Written by Dr Daniel Buscombe, Northern Arizona University\n",
    "\n",
    "> Part of a series of notebooks for image recognition and classification using deep convolutional neural networks\n",
    "\n",
    "\n",
    "Implements the technique outlined by [Buscombe & Ritchie (2018)](https://www.mdpi.com/2076-3263/8/7/244)\n",
    "\n",
    "Thanks to code contributions from [Rich Signell](https://github.com/rsignell-usgs) and [Colin Talbert](https://github.com/talbertc-usgs)"
   ]
  },
  {
   "cell_type": "markdown",
   "metadata": {},
   "source": [
    "### 1. Load libraries"
   ]
  },
  {
   "cell_type": "code",
   "execution_count": null,
   "metadata": {},
   "outputs": [],
   "source": [
    "from PIL import Image ##from imageio import imread\n",
    "import numpy as np\n",
    "import matplotlib.pyplot as plt\n",
    "import holoviews as hv\n",
    "from holoviews.streams import FreehandDraw\n",
    "hv.extension('bokeh')"
   ]
  },
  {
   "cell_type": "code",
   "execution_count": null,
   "metadata": {},
   "outputs": [],
   "source": [
    "from funcs.crf_utils import *\n",
    "from funcs.widgets_utils import *\n",
    "from funcs.file_select import FileBrowser\n",
    "from funcs.tile_utils import sliding_window\n",
    "global labels_widget"
   ]
  },
  {
   "cell_type": "code",
   "execution_count": null,
   "metadata": {},
   "outputs": [],
   "source": [
    "import panel, param\n",
    "from bokeh.plotting import figure\n",
    "from panel.layout import *\n",
    "from panel.widgets import *\n",
    "panel.extension()"
   ]
  },
  {
   "cell_type": "markdown",
   "metadata": {},
   "source": [
    "### 2. Pick an image "
   ]
  },
  {
   "cell_type": "code",
   "execution_count": null,
   "metadata": {},
   "outputs": [],
   "source": [
    "file_picker = FileBrowser()\n",
    "file_picker.widget()"
   ]
  },
  {
   "cell_type": "code",
   "execution_count": null,
   "metadata": {},
   "outputs": [],
   "source": [
    "imfile = file_picker.path"
   ]
  },
  {
   "cell_type": "code",
   "execution_count": null,
   "metadata": {},
   "outputs": [],
   "source": [
    "im = Image.open(imfile)\n",
    "im = im.convert(\"RGB\")\n",
    "nx, ny, nz = np.shape(im)"
   ]
  },
  {
   "cell_type": "markdown",
   "metadata": {},
   "source": [
    "### 3. Make labels and colors\n",
    "\n",
    "#### Instructions:\n",
    "1. Create class labels and assign each label a color"
   ]
  },
  {
   "cell_type": "code",
   "execution_count": null,
   "metadata": {
    "scrolled": true
   },
   "outputs": [],
   "source": [
    "label_editor, labels_widget = create_colorpicker()\n",
    "label_editor"
   ]
  },
  {
   "cell_type": "code",
   "execution_count": null,
   "metadata": {},
   "outputs": [],
   "source": [
    "labels, colors = get_labels_and_colors(label_editor)"
   ]
  },
  {
   "cell_type": "code",
   "execution_count": null,
   "metadata": {},
   "outputs": [],
   "source": [
    "labels"
   ]
  },
  {
   "cell_type": "code",
   "execution_count": null,
   "metadata": {},
   "outputs": [],
   "source": [
    "brush = 5"
   ]
  },
  {
   "cell_type": "markdown",
   "metadata": {},
   "source": [
    "### 4. Freehand Drawing\n",
    "\n",
    "#### Instructions:\n",
    "1. Choose a label from the dropdown menu (and optionally choose a line width)\n",
    "2. Click the 'pen' tool, and freehand draw on image\n",
    "3. When done with freehand draw for each label, click \"Done with Label\"\n",
    "4. Choose next label and repeat steps 1-3.\n",
    "5. When done with all labels, proceed to next cell"
   ]
  },
  {
   "cell_type": "code",
   "execution_count": null,
   "metadata": {},
   "outputs": [],
   "source": [
    "def set_active_tool(plot, element):\n",
    "    \"\"\"set freehand draw tool to be initially active\"\"\"\n",
    "    plot.state.toolbar.active_drag = plot.state.tools[5]\n",
    "\n",
    "class EarthAnnotate(param.Parameterized):\n",
    "    anno = {}\n",
    "    label = param.ObjectSelector(objects=labels, default=labels[0]) \n",
    "    done_with_label = param.Action(lambda x: x.anno.update( **{x.label: \n",
    "                            np.column_stack(access_annotation_coordinates(x.freehand_stream))}),\n",
    "                                 precedence=1.0)\n",
    "    \n",
    "    def make_view(self, **kwargs):\n",
    "        color_index = labels.index(self.label)\n",
    "        opts = dict(line_width=brush, color=colors[color_index], \n",
    "                    finalize_hooks=[set_active_tool], width=400, height=600)\n",
    "        path = hv.Path([[(0, 0), (0, 0)]]).options(**opts)\n",
    "        self.freehand_stream = FreehandDraw(source=path, num_objects=999)\n",
    "        bounds=(0,0,ny,nx)   # Coordinate system: (left, bottom, top, right)\n",
    "        img = hv.RGB(np.array(im), bounds=bounds) #hv.Image(im, bounds=bounds)\n",
    "\n",
    "        return img * path \n",
    "\n",
    "e_anno = EarthAnnotate(name=\"Image Annotation\")\n",
    "panel.Row(e_anno.make_view, e_anno)"
   ]
  },
  {
   "cell_type": "code",
   "execution_count": null,
   "metadata": {},
   "outputs": [],
   "source": [
    "anno = e_anno.anno"
   ]
  },
  {
   "cell_type": "markdown",
   "metadata": {},
   "source": [
    "### 5. Choose parameters and run pixel estimation model"
   ]
  },
  {
   "cell_type": "code",
   "execution_count": null,
   "metadata": {},
   "outputs": [],
   "source": [
    "# This parameter penalizes small pieces of segmentation that are\n",
    "# spatially isolated -- enforces more spatially consistent segmentations\n",
    "compat_spat=12 ##non-dimensional\n",
    "# larger values = larger pieces of segmentation allowed"
   ]
  },
  {
   "cell_type": "code",
   "execution_count": null,
   "metadata": {},
   "outputs": [],
   "source": [
    "# This parameter penalizes pieces of segmentation that are\n",
    "# less uniform in color -- enforces more consistent segmentations in colorspace\n",
    "compat_col=100 ##non-dimensional\n",
    "# larger values = pieces of segmentation with less similar image intesity allowed"
   ]
  },
  {
   "cell_type": "code",
   "execution_count": null,
   "metadata": {},
   "outputs": [],
   "source": [
    "# Scaling parameters: tolerances in intensity and location\n",
    "theta=60 \n",
    "# larger values = pixel pairs can be considered to be the same class label with less similar location/intensity"
   ]
  },
  {
   "cell_type": "code",
   "execution_count": null,
   "metadata": {},
   "outputs": [],
   "source": [
    "# number of iterations for algorithm (generally, larger the better, but only to a point)\n",
    "n_iter=15"
   ]
  },
  {
   "cell_type": "code",
   "execution_count": null,
   "metadata": {},
   "outputs": [],
   "source": [
    "Lc = get_sparse_label(anno, nx, ny, labels, brush)\n",
    "res = getCRF(im, Lc, theta, n_iter, labels, compat_spat, compat_col)\n",
    "out = get_rgb(res, labels, colors)"
   ]
  },
  {
   "cell_type": "code",
   "execution_count": null,
   "metadata": {},
   "outputs": [],
   "source": [
    "plt.figure(figsize=(10,10))\n",
    "plt.imshow(im)\n",
    "plt.imshow(out, alpha=0.5);"
   ]
  },
  {
   "cell_type": "markdown",
   "metadata": {},
   "source": [
    "### 6. Write image to file"
   ]
  },
  {
   "cell_type": "code",
   "execution_count": null,
   "metadata": {},
   "outputs": [],
   "source": [
    "write_label_image(imfile, out)"
   ]
  }
 ],
 "metadata": {
  "kernelspec": {
   "display_name": "Python 3",
   "language": "python",
   "name": "python3"
  },
  "language_info": {
   "codemirror_mode": {
    "name": "ipython",
    "version": 3
   },
   "file_extension": ".py",
   "mimetype": "text/x-python",
   "name": "python",
   "nbconvert_exporter": "python",
   "pygments_lexer": "ipython3",
   "version": "3.6.6"
  }
 },
 "nbformat": 4,
 "nbformat_minor": 2
}
